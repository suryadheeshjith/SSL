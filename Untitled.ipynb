{
 "cells": [
  {
   "cell_type": "code",
   "execution_count": 5,
   "id": "f254f961",
   "metadata": {},
   "outputs": [],
   "source": [
    "import torch\n",
    "import torch.nn.functional as F\n"
   ]
  },
  {
   "cell_type": "code",
   "execution_count": null,
   "id": "ce43aae2",
   "metadata": {},
   "outputs": [],
   "source": [
    "class FocalLoss(nn.modules.loss._WeightedLoss):\n",
    "    def __init__(self, weight=None, gamma=2,reduction='mean'):\n",
    "        super(FocalLoss, self).__init__(weight,reduction=reduction)\n",
    "        self.gamma = gamma\n",
    "        self.weight = weight #weight parameter will act as the alpha parameter to balance class weights\n",
    "\n",
    "    def forward(self, input, target):\n",
    "\n",
    "        ce_loss = F.cross_entropy(input, target,reduction=self.reduction,weight=self.weight) \n",
    "        pt = torch.exp(-ce_loss)\n",
    "        focal_loss = ((1 - pt) ** self.gamma * ce_loss).mean()\n",
    "        return focal_loss"
   ]
  },
  {
   "cell_type": "code",
   "execution_count": 15,
   "id": "d878ce0a",
   "metadata": {},
   "outputs": [
    {
     "data": {
      "text/plain": [
       "tensor(0.6599)"
      ]
     },
     "execution_count": 15,
     "metadata": {},
     "output_type": "execute_result"
    }
   ],
   "source": [
    "a = torch.zeros((1, 2, 2, 2), dtype=torch.float32)\n",
    "b = torch.zeros((1, 2, 2), dtype=torch.long)\n",
    "\n",
    "a[0][0][0][0] = 0.8\n",
    "a[0][1][0][0] = 0.2\n",
    "\n",
    "a[0][0][0][1] = 0.7\n",
    "a[0][1][0][1] = 0.3\n",
    "\n",
    "a[0][0][1][0] = 0.8\n",
    "a[0][1][1][0] = 0.2\n",
    "\n",
    "a[0][0][1][1] = 0.8\n",
    "a[0][1][1][1] = 0.2\n",
    "\n",
    "b[0][0][0] = 0\n",
    "b[0][0][1] = 1\n",
    "b[0][1][0] = 0\n",
    "b[0][1][1] = 1\n",
    "\n",
    "\n",
    "\n",
    "def focal_loss(pred, target, alpha = 1, gamma = 0.1):\n",
    "    C = 2\n",
    "    ce_loss = F.cross_entropy(pred, target, reduction='mean', weight=torch.ones(C))\n",
    "    pt = torch.exp(-ce_loss)\n",
    "    focal_loss = ((1 - pt) ** gamma * ce_loss).mean()\n",
    "    return focal_loss\n",
    "\n",
    "focal_loss(a, b)\n",
    "    "
   ]
  },
  {
   "cell_type": "code",
   "execution_count": null,
   "id": "3b51361d",
   "metadata": {},
   "outputs": [],
   "source": []
  },
  {
   "cell_type": "code",
   "execution_count": null,
   "id": "5470e675",
   "metadata": {},
   "outputs": [],
   "source": []
  }
 ],
 "metadata": {
  "kernelspec": {
   "display_name": "Python 3 (ipykernel)",
   "language": "python",
   "name": "python3"
  },
  "language_info": {
   "codemirror_mode": {
    "name": "ipython",
    "version": 3
   },
   "file_extension": ".py",
   "mimetype": "text/x-python",
   "name": "python",
   "nbconvert_exporter": "python",
   "pygments_lexer": "ipython3",
   "version": "3.10.6"
  }
 },
 "nbformat": 4,
 "nbformat_minor": 5
}
